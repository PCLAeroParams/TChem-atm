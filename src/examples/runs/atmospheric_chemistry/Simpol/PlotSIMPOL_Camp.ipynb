{
 "cells": [
  {
   "cell_type": "code",
   "execution_count": null,
   "metadata": {},
   "outputs": [],
   "source": [
    "import numpy as np\n",
    "import matplotlib.pyplot as plt"
   ]
  },
  {
   "cell_type": "code",
   "execution_count": null,
   "metadata": {},
   "outputs": [],
   "source": [
    "tchem_path_solution=\".\"\n",
    "data = np.genfromtxt(tchem_path_solution+\"/full_gas.dat\", dtype=str)\n",
    "# Header = (data[0,:]).tolist()\n",
    "## FIXME: we must delete header of full_gas.dat. I need to fix the header of this file in the tchem.\n",
    "solTchem = (data[0:,:]).astype(float)"
   ]
  },
  {
   "cell_type": "code",
   "execution_count": null,
   "metadata": {},
   "outputs": [],
   "source": [
    "campsol = np.loadtxt(\"camp_out/SIMPOL_phase_transfer_results.txt\")"
   ]
  },
  {
   "cell_type": "code",
   "execution_count": null,
   "metadata": {},
   "outputs": [],
   "source": [
    "t_indx=1"
   ]
  },
  {
   "cell_type": "code",
   "execution_count": null,
   "metadata": {},
   "outputs": [],
   "source": [
    "plt.figure()\n",
    "plt.plot(campsol[:,0],campsol[:,2],'o',label='ethanol-m')\n",
    "plt.plot(solTchem[:,1],solTchem[:,6], label=\"ethanol-tchem\")\n",
    "plt.plot(solTchem[:,1],solTchem[:,8], label=\"ethanol_aq-tchem\")\n",
    "plt.plot(campsol[:,0],campsol[:,4],'o',label='ethanol_aq-m')\n",
    "plt.yscale('log')\n",
    "plt.legend(loc='best')\n"
   ]
  }
 ],
 "metadata": {
  "kernelspec": {
   "display_name": "Python 3",
   "language": "python",
   "name": "python3"
  },
  "language_info": {
   "codemirror_mode": {
    "name": "ipython",
    "version": 3
   },
   "file_extension": ".py",
   "mimetype": "text/x-python",
   "name": "python",
   "nbconvert_exporter": "python",
   "pygments_lexer": "ipython3",
   "version": "3.10.13"
  }
 },
 "nbformat": 4,
 "nbformat_minor": 4
}
